{
 "cells": [
  {
   "cell_type": "markdown",
   "id": "a99c7262",
   "metadata": {},
   "source": [
    "# Homework 1\n"
   ]
  },
  {
   "cell_type": "code",
   "execution_count": 43,
   "id": "ca09f07e-8bed-4056-8c03-64db62a16dee",
   "metadata": {},
   "outputs": [],
   "source": [
    "# Import necessary libraries\n",
    "from openai import OpenAI\n",
    "import os\n",
    "import requests\n",
    "from elasticsearch import Elasticsearch\n",
    "import tiktoken"
   ]
  },
  {
   "cell_type": "markdown",
   "id": "33bb4653",
   "metadata": {},
   "source": [
    "***Q1. Running Elastic***\n",
    "\n",
    "What's the version.build_hash value?"
   ]
  },
  {
   "cell_type": "code",
   "execution_count": null,
   "id": "6ca6a0bf",
   "metadata": {},
   "outputs": [
    {
     "name": "stdout",
     "output_type": "stream",
     "text": [
      "{\n",
      "  \"name\" : \"5e72f9963382\",\n",
      "  \"cluster_name\" : \"docker-cluster\",\n",
      "  \"cluster_uuid\" : \"o6f-JGvpQoego2PpIJrQ8A\",\n",
      "  \"version\" : {\n",
      "    \"number\" : \"8.17.6\",\n",
      "    \"build_flavor\" : \"default\",\n",
      "    \"build_type\" : \"docker\",\n",
      "    \"build_hash\" : \"dbcbbbd0bc4924cfeb28929dc05d82d662c527b7\",\n",
      "    \"build_date\" : \"2025-04-30T14:07:12.231372970Z\",\n",
      "    \"build_snapshot\" : false,\n",
      "    \"lucene_version\" : \"9.12.0\",\n",
      "    \"minimum_wire_compatibility_version\" : \"7.17.0\",\n",
      "    \"minimum_index_compatibility_version\" : \"7.0.0\"\n",
      "  },\n",
      "  \"tagline\" : \"You Know, for Search\"\n",
      "}\n"
     ]
    }
   ],
   "source": [
    "# Get the cluster information\n",
    "!curl localhost:9200"
   ]
  },
  {
   "cell_type": "code",
   "execution_count": null,
   "id": "e2aa5fc5",
   "metadata": {},
   "outputs": [],
   "source": [
    "# Getting the data\n",
    "docs_url = 'https://github.com/DataTalksClub/llm-zoomcamp/blob/main/01-intro/documents.json?raw=1'\n",
    "docs_response = requests.get(docs_url)\n",
    "documents_raw = docs_response.json()\n",
    "\n",
    "documents = []\n",
    "\n",
    "for course in documents_raw:\n",
    "    course_name = course['course']\n",
    "\n",
    "    for doc in course['documents']:\n",
    "        doc['course'] = course_name\n",
    "        documents.append(doc)"
   ]
  },
  {
   "cell_type": "markdown",
   "id": "12191e26",
   "metadata": {},
   "source": [
    "***Q2. Indexing the data***\n",
    "\n",
    "Which function do you use for adding your data to elastic?"
   ]
  },
  {
   "cell_type": "code",
   "execution_count": 6,
   "id": "e0ef159f",
   "metadata": {},
   "outputs": [
    {
     "name": "stderr",
     "output_type": "stream",
     "text": [
      "/var/folders/_9/rjnbrnf56dld9s5r75l__p6r0000gn/T/ipykernel_28088/210292929.py:17: DeprecationWarning: The 'body' parameter is deprecated for the 'create' API and will be removed in a future version. Instead use API parameters directly. See https://github.com/elastic/elasticsearch-py/issues/1698 for more information\n",
      "  es_client.indices.create(index=\"documents\", body=mapping)\n"
     ]
    }
   ],
   "source": [
    "# Index the data using Elasticsearch\n",
    "es_client = Elasticsearch('http://localhost:9200')\n",
    "# Define the index mapping\n",
    "mapping = {\n",
    "    \"mappings\": {\n",
    "        \"properties\": {\n",
    "            \"course\": {\"type\": \"keyword\"},\n",
    "            \"section\": {\"type\": \"text\"},\n",
    "            \"question\": {\"type\": \"text\"},\n",
    "            \"text\": {\"type\": \"text\"}\n",
    "        }\n",
    "    }\n",
    "}\n",
    "\n",
    "# Create the index with the mapping (ignore if already exists)\n",
    "if not es_client.indices.exists(index=\"documents\"):\n",
    "    es_client.indices.create(index=\"documents\", body=mapping)\n",
    "\n",
    "# Index each document\n",
    "for doc in documents:\n",
    "    es_client.index(index=\"documents\", document=doc)"
   ]
  },
  {
   "cell_type": "markdown",
   "id": "172ac322",
   "metadata": {},
   "source": [
    "***Q3. Searching***\n",
    "\n",
    "What's the score for the top ranking result?"
   ]
  },
  {
   "cell_type": "code",
   "execution_count": null,
   "id": "e1d5551f",
   "metadata": {},
   "outputs": [],
   "source": [
    "# Function to search the indexed data\n",
    "def search_documents(query):\n",
    "    query_body = {\n",
    "        \"query\": {\n",
    "            \"multi_match\": {\n",
    "                \"query\": query,\n",
    "                \"type\": \"best_fields\",\n",
    "                \"fields\": [\"text\", \"question^4\"]\n",
    "            }\n",
    "        }\n",
    "    }\n",
    "\n",
    "    response = es_client.search(\n",
    "        index=\"documents\",\n",
    "        body=query_body\n",
    "    )\n",
    "    return response['hits']['hits']\n"
   ]
  },
  {
   "cell_type": "code",
   "execution_count": null,
   "id": "42fe262f",
   "metadata": {},
   "outputs": [
    {
     "name": "stdout",
     "output_type": "stream",
     "text": [
      "44.50556\n"
     ]
    },
    {
     "name": "stderr",
     "output_type": "stream",
     "text": [
      "/var/folders/_9/rjnbrnf56dld9s5r75l__p6r0000gn/T/ipykernel_28088/2380535908.py:13: DeprecationWarning: The 'body' parameter is deprecated for the 'search' API and will be removed in a future version. Instead use API parameters directly. See https://github.com/elastic/elasticsearch-py/issues/1698 for more information\n",
      "  response = es_client.search(\n"
     ]
    }
   ],
   "source": [
    "# Get only _score for top results\n",
    "query = \"How do execute a command on a Kubernetes pod?\"\n",
    "results = search_documents(query)\n",
    "print(results[0]['_score'])\n"
   ]
  },
  {
   "cell_type": "markdown",
   "id": "3a544efc",
   "metadata": {},
   "source": [
    "***Q4. Filtering***\n",
    "\n",
    "What's the 3rd question returned by the search engine?"
   ]
  },
  {
   "cell_type": "code",
   "execution_count": 33,
   "id": "9c19ec35",
   "metadata": {},
   "outputs": [],
   "source": [
    "def search_documents(query, size=5):\n",
    "    query_body = {\n",
    "        \"query\": {\n",
    "            \"bool\": {\n",
    "                \"must\": {\n",
    "                    \"multi_match\": {\n",
    "                        \"query\": query,\n",
    "                        \"type\": \"best_fields\",\n",
    "                        \"fields\": [\"text\", \"question^4\"]\n",
    "                    }\n",
    "                },\n",
    "                \"filter\": [\n",
    "                    {\"term\": {\"course\": \"machine-learning-zoomcamp\"}}\n",
    "                ]\n",
    "            }\n",
    "        }\n",
    "    }\n",
    "\n",
    "    response = es_client.search(\n",
    "        index=\"documents\",\n",
    "        body=query_body,\n",
    "        size=size\n",
    "    )\n",
    "    return response['hits']['hits']"
   ]
  },
  {
   "cell_type": "code",
   "execution_count": 35,
   "id": "1dc6ecc0",
   "metadata": {},
   "outputs": [
    {
     "name": "stdout",
     "output_type": "stream",
     "text": [
      "How do I copy files from a different folder into docker container’s working directory?\n"
     ]
    },
    {
     "name": "stderr",
     "output_type": "stream",
     "text": [
      "/var/folders/_9/rjnbrnf56dld9s5r75l__p6r0000gn/T/ipykernel_28088/171566568.py:19: DeprecationWarning: The 'body' parameter is deprecated for the 'search' API and will be removed in a future version. Instead use API parameters directly. See https://github.com/elastic/elasticsearch-py/issues/1698 for more information\n",
      "  response = es_client.search(\n"
     ]
    }
   ],
   "source": [
    "# Print the question of the third result for a specific query\n",
    "query = \"How do copy a file to a Docker container?\"\n",
    "results = search_documents(query, size=3)\n",
    "print(results[2]['_source']['question'])"
   ]
  },
  {
   "cell_type": "markdown",
   "id": "bc169e00",
   "metadata": {},
   "source": [
    "***Q5. Building a prompt***\n",
    "\n",
    "What's the length of the resulting prompt? "
   ]
  },
  {
   "cell_type": "code",
   "execution_count": 36,
   "id": "fae36f86",
   "metadata": {},
   "outputs": [],
   "source": [
    "# Define the context template for the LLM\n",
    "\n",
    "context_template = \"\"\"\n",
    "Q: {question}\n",
    "A: {text}\n",
    "\"\"\".strip()\n",
    "\n",
    "# Prepare the context for the LLM\n",
    "context = \"\"\n",
    "for result in results:\n",
    "    context += context_template.format(\n",
    "        question=result['_source']['question'],\n",
    "        text=result['_source']['text']\n",
    "    ) + \"\\n\\n\""
   ]
  },
  {
   "cell_type": "code",
   "execution_count": 37,
   "id": "f5361e9e",
   "metadata": {},
   "outputs": [],
   "source": [
    "# Define the prompt template for the LLM\n",
    "prompt_template = \"\"\"\n",
    "You're a course teaching assistant. Answer the QUESTION based on the CONTEXT from the FAQ database.\n",
    "Use only the facts from the CONTEXT when answering the QUESTION.\n",
    "\n",
    "QUESTION: {question}\n",
    "\n",
    "CONTEXT:\n",
    "{context}\n",
    "\"\"\".strip()\n",
    "\n",
    "# Prepare the prompt for the LLM\n",
    "prompt = prompt_template.format(\n",
    "            question=query,\n",
    "            context=context\n",
    "        ).strip()"
   ]
  },
  {
   "cell_type": "code",
   "execution_count": 38,
   "id": "9053efa1",
   "metadata": {},
   "outputs": [
    {
     "name": "stdout",
     "output_type": "stream",
     "text": [
      "Length of the prompt: 1446\n"
     ]
    }
   ],
   "source": [
    "# Print the length of the prompt\n",
    "print(\"Length of the prompt:\", len(prompt))"
   ]
  },
  {
   "cell_type": "markdown",
   "id": "98c8fd73",
   "metadata": {},
   "source": [
    "***Q6. Tokens***\n",
    "\n",
    "How many tokens does our prompt have?"
   ]
  },
  {
   "cell_type": "code",
   "execution_count": 42,
   "id": "fa48129c",
   "metadata": {},
   "outputs": [],
   "source": [
    "#!pip install tiktoken"
   ]
  },
  {
   "cell_type": "code",
   "execution_count": 50,
   "id": "87cb81c6",
   "metadata": {},
   "outputs": [
    {
     "name": "stdout",
     "output_type": "stream",
     "text": [
      "320\n"
     ]
    }
   ],
   "source": [
    "# Encode the prompt using tiktoken\n",
    "# Initialize the tokenizer for the GPT-4o model\n",
    "encoding = tiktoken.encoding_for_model(\"gpt-4o\")\n",
    "# Encode the prompt and \n",
    "tokens = encoding.encode(prompt)\n",
    "# Print the number of tokens\n",
    "print(len(tokens))"
   ]
  },
  {
   "cell_type": "code",
   "execution_count": 51,
   "id": "528e486a",
   "metadata": {},
   "outputs": [
    {
     "name": "stdout",
     "output_type": "stream",
     "text": [
      "First 20 tokens: [63842, 261, 4165, 14029, 29186, 13, 30985, 290, 150339, 4122, 402, 290, 31810, 8099, 591, 290, 40251, 7862, 558, 8470]\n"
     ]
    }
   ],
   "source": [
    "# Display first 20 tokens\n",
    "print(\"First 20 tokens:\", tokens[:20])"
   ]
  },
  {
   "cell_type": "code",
   "execution_count": 49,
   "id": "309f55ce",
   "metadata": {},
   "outputs": [
    {
     "data": {
      "text/plain": [
       "b\"You're\""
      ]
     },
     "execution_count": 49,
     "metadata": {},
     "output_type": "execute_result"
    }
   ],
   "source": [
    "# Decode a single token into a word - tocken 63842\n",
    "encoding.decode_single_token_bytes(63842)"
   ]
  }
 ],
 "metadata": {
  "kernelspec": {
   "display_name": "venv",
   "language": "python",
   "name": "python3"
  },
  "language_info": {
   "codemirror_mode": {
    "name": "ipython",
    "version": 3
   },
   "file_extension": ".py",
   "mimetype": "text/x-python",
   "name": "python",
   "nbconvert_exporter": "python",
   "pygments_lexer": "ipython3",
   "version": "3.9.6"
  }
 },
 "nbformat": 4,
 "nbformat_minor": 5
}
