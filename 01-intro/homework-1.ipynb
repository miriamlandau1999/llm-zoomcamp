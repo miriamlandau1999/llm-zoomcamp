{
 "cells": [
  {
   "cell_type": "markdown",
   "id": "a99c7262",
   "metadata": {},
   "source": [
    "# Homework 1\n",
    "This notebook sends a simple api call to OpenAI"
   ]
  },
  {
   "cell_type": "code",
   "execution_count": null,
   "id": "ca09f07e-8bed-4056-8c03-64db62a16dee",
   "metadata": {},
   "outputs": [],
   "source": [
    "# Import necessary libraries\n",
    "from openai import OpenAI\n",
    "import os"
   ]
  },
  {
   "cell_type": "code",
   "execution_count": 4,
   "id": "2e4b1540-7b2c-4b8b-b6fd-ad7d16367ac9",
   "metadata": {},
   "outputs": [],
   "source": [
    "# Create clinet passing the API key from environment variables\n",
    "client = OpenAI(api_key=os.getenv(\"OPENAI_API_KEY\"))"
   ]
  },
  {
   "cell_type": "code",
   "execution_count": 5,
   "id": "130c07ad-39cd-4762-9e52-976c89da6392",
   "metadata": {},
   "outputs": [
    {
     "data": {
      "text/plain": [
       "ChatCompletion(id='chatcmpl-BelGVZVynmePUKiD863LXl9RSVCo0', choices=[Choice(finish_reason='stop', index=0, logprobs=None, message=ChatCompletionMessage(content='It depends on the specific course and its enrollment policies. You should reach out to the course instructor or the institution offering the course to inquire about late enrollment options.', refusal=None, role='assistant', annotations=[], audio=None, function_call=None, tool_calls=None))], created=1749054507, model='gpt-3.5-turbo-0125', object='chat.completion', service_tier='default', system_fingerprint=None, usage=CompletionUsage(completion_tokens=32, prompt_tokens=15, total_tokens=47, completion_tokens_details=CompletionTokensDetails(accepted_prediction_tokens=0, audio_tokens=0, reasoning_tokens=0, rejected_prediction_tokens=0), prompt_tokens_details=PromptTokensDetails(audio_tokens=0, cached_tokens=0)))"
      ]
     },
     "execution_count": 5,
     "metadata": {},
     "output_type": "execute_result"
    }
   ],
   "source": [
    "# Send a chat completion request to the OpenAI API\n",
    "response = client.chat.completions.create(\n",
    "    model='gpt-3.5-turbo',\n",
    "    messages=[{'role': 'user', 'content': 'Is it too late to join the course'}]\n",
    ")\n",
    "response"
   ]
  }
 ],
 "metadata": {
  "kernelspec": {
   "display_name": "venv",
   "language": "python",
   "name": "python3"
  },
  "language_info": {
   "codemirror_mode": {
    "name": "ipython",
    "version": 3
   },
   "file_extension": ".py",
   "mimetype": "text/x-python",
   "name": "python",
   "nbconvert_exporter": "python",
   "pygments_lexer": "ipython3",
   "version": "3.9.6"
  }
 },
 "nbformat": 4,
 "nbformat_minor": 5
}
