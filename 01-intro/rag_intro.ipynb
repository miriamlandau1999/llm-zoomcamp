{
 "cells": [
  {
   "cell_type": "markdown",
   "id": "41fcbfc5",
   "metadata": {},
   "source": [
    "# Retrieval-Augmented Generation (RAG) Demo\n",
    "\n",
    "This notebook demonstrates a simple retrieval-augmented generation workflow using a custom search engine.\n",
    "\n",
    "I practiced using Github Copilot to write the code cell by cell. \n",
    "\n",
    "I then made the code modular using functions. "
   ]
  },
  {
   "cell_type": "code",
   "execution_count": 29,
   "id": "e4485852",
   "metadata": {},
   "outputs": [],
   "source": [
    "#Download the custom search engine and documents json file from the Datatalks Club GitHub repository.\n",
    "#!wget https://raw.githubusercontent.com/alexeygrigorev/minsearch/refs/heads/main/minsearch.py\n",
    "#!wget https://raw.githubusercontent.com/DataTalksClub/llm-zoomcamp/refs/heads/main/01-intro/documents.json"
   ]
  },
  {
   "cell_type": "code",
   "execution_count": 1,
   "id": "c0fa9e21",
   "metadata": {},
   "outputs": [],
   "source": [
    "#Import necessary libraries\n",
    "import json\n",
    "import minsearch\n",
    "from openai import OpenAI"
   ]
  },
  {
   "cell_type": "code",
   "execution_count": 2,
   "id": "b36145d4",
   "metadata": {},
   "outputs": [],
   "source": [
    "# Load the documents from the JSON file\n",
    "with open('documents.json', 'r') as f:\n",
    "    docs_raw = json.load(f)"
   ]
  },
  {
   "cell_type": "code",
   "execution_count": 3,
   "id": "7f7944b8",
   "metadata": {},
   "outputs": [],
   "source": [
    "documents = []\n",
    "\n",
    "for course_dict in docs_raw:\n",
    "    for doc in course_dict['documents']:\n",
    "        doc['course'] = course_dict['course']\n",
    "        documents.append(doc)"
   ]
  },
  {
   "cell_type": "code",
   "execution_count": 4,
   "id": "88709793",
   "metadata": {},
   "outputs": [],
   "source": [
    "# Create the search index\n",
    "index = minsearch.Index(\n",
    "    text_fields=[\"question\", \"text\", \"section\"],\n",
    "    keyword_fields=[\"course\"]\n",
    ")"
   ]
  },
  {
   "cell_type": "code",
   "execution_count": 5,
   "id": "1723068c",
   "metadata": {},
   "outputs": [
    {
     "data": {
      "text/plain": [
       "<minsearch.Index at 0x173d79a60>"
      ]
     },
     "execution_count": 5,
     "metadata": {},
     "output_type": "execute_result"
    }
   ],
   "source": [
    "# Fit the index with the documents\n",
    "index.fit(documents)"
   ]
  },
  {
   "cell_type": "code",
   "execution_count": null,
   "id": "6a4ff3e8",
   "metadata": {},
   "outputs": [],
   "source": [
    "# Search the index for relevant documents based on the query.\n",
    "def search(query):\n",
    "    # Set boost values to give more importance to certain fields during search\n",
    "    boost = { \"question\": 3, \"section\": 0.5}\n",
    "    # Search the index with the query, filtering by course and applying boost\n",
    "    results = index.search(\n",
    "        query=query,\n",
    "        num_results=5,\n",
    "        filter_dict={\"course\": \"data-engineering-zoomcamp\"},\n",
    "        boost_dict=boost\n",
    "    )\n",
    "    return results\n",
    "    "
   ]
  },
  {
   "cell_type": "code",
   "execution_count": null,
   "id": "ab51b4df",
   "metadata": {},
   "outputs": [],
   "source": [
    "# Build a prompt for the LLM using the query and search results.\n",
    "def prompt_builder(query, search_results):\n",
    "    # Create prompt template for the question and context\n",
    "    prompt_template = \"\"\"\n",
    "    You are a course assistant for the Data Engineering Zoomcamp. \n",
    "    You will be given a question. Your task is to answer the question based on the CONTEXT from the FAQ Documents. Use only facts from the CONTEXT to answer the question. If you don't know the answer, say \"I don't know\".\n",
    "    Question: {question}\n",
    "    Context: {context}\n",
    "    Answer: \n",
    "    \"\"\".strip()\n",
    "\n",
    "    # Create context of documents from our search results\n",
    "    context = \"\"\n",
    "\n",
    "    for doc in search_results: \n",
    "        context += f\"Question: {doc['question']}\\n\"\n",
    "        context += f\"Answer: {doc['text']}\\n\"\n",
    "        context += f\"Section: {doc['section']}\\n\\n\"\n",
    "\n",
    "        # Create the prompt\n",
    "        prompt = prompt_template.format(\n",
    "            question=query,\n",
    "            context=context\n",
    "        ).strip()\n",
    "    return prompt\n",
    "    "
   ]
  },
  {
   "cell_type": "code",
   "execution_count": null,
   "id": "050318e0",
   "metadata": {},
   "outputs": [],
   "source": [
    "# Send the prompt to the OpenAI LLM and returns the response.\n",
    "def llm(prompt):\n",
    "    # Create an OpenAI client instance\n",
    "    client = OpenAI()\n",
    "    # Send the prompt with context  to the OpenAI model and get the response\n",
    "    response = client.chat.completions.create(\n",
    "    model=\"gpt-4o\",\n",
    "    messages=[\n",
    "        {\"role\": \"user\", \"content\": prompt},\n",
    "    ])\n",
    "    return response.choices[0].message.content"
   ]
  },
  {
   "cell_type": "code",
   "execution_count": null,
   "id": "23078a2b",
   "metadata": {},
   "outputs": [],
   "source": [
    "# Implement the full RAG pipeline: search, prompt building, and LLM call.\n",
    "def rag(query): \n",
    "    # Get search results for the query\n",
    "    search_results = search(query)\n",
    "    # Build the prompt with the query and search results\n",
    "    prompt = prompt_builder(query, search_results)\n",
    "    # Get the answer from the LLM\n",
    "    answer = llm(prompt)\n",
    "    return answer"
   ]
  },
  {
   "cell_type": "code",
   "execution_count": 19,
   "id": "d3b384b1",
   "metadata": {},
   "outputs": [],
   "source": [
    "# Set the query \n",
    "query = 'the course has already started, can I still enroll?'\n"
   ]
  },
  {
   "cell_type": "code",
   "execution_count": 28,
   "id": "0229f1f7",
   "metadata": {},
   "outputs": [
    {
     "name": "stdout",
     "output_type": "stream",
     "text": [
      "Yes, even if the course has already started, you can still enroll and submit the homework. However, be aware that there will be deadlines for submitting the final projects, so it's advisable not to leave everything for the last minute.\n"
     ]
    }
   ],
   "source": [
    "# Example usage\n",
    "answer = rag(query)\n",
    "# Print the answer\n",
    "print(rag(query))"
   ]
  }
 ],
 "metadata": {
  "kernelspec": {
   "display_name": "venv",
   "language": "python",
   "name": "python3"
  },
  "language_info": {
   "codemirror_mode": {
    "name": "ipython",
    "version": 3
   },
   "file_extension": ".py",
   "mimetype": "text/x-python",
   "name": "python",
   "nbconvert_exporter": "python",
   "pygments_lexer": "ipython3",
   "version": "3.9.6"
  }
 },
 "nbformat": 4,
 "nbformat_minor": 5
}
