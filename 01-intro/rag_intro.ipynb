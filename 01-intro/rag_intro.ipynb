{
 "cells": [
  {
   "cell_type": "markdown",
   "id": "41fcbfc5",
   "metadata": {},
   "source": [
    "# Retrieval-Augmented Generation (RAG) Demo\n",
    "\n",
    "This notebook demonstrates a simple retrieval-augmented generation workflow using a custom search engine.\n",
    "\n",
    "I practiced using Github Copilot to write the code cell by cell. \n",
    "\n",
    "I then made the code modular using functions. "
   ]
  },
  {
   "cell_type": "code",
   "execution_count": 2,
   "id": "e4485852",
   "metadata": {},
   "outputs": [],
   "source": [
    "#Download the custom search engine and documents json file from the Datatalks Club GitHub repository.\n",
    "#!wget https://raw.githubusercontent.com/alexeygrigorev/minsearch/refs/heads/main/minsearch.py\n",
    "#!wget https://raw.githubusercontent.com/DataTalksClub/llm-zoomcamp/refs/heads/main/01-intro/documents.json"
   ]
  },
  {
   "cell_type": "code",
   "execution_count": 2,
   "id": "c0fa9e21",
   "metadata": {},
   "outputs": [
    {
     "name": "stderr",
     "output_type": "stream",
     "text": [
      "/Users/miriamlandau/Documents/llm-zoomcamp/venv/lib/python3.9/site-packages/tqdm/auto.py:21: TqdmWarning: IProgress not found. Please update jupyter and ipywidgets. See https://ipywidgets.readthedocs.io/en/stable/user_install.html\n",
      "  from .autonotebook import tqdm as notebook_tqdm\n"
     ]
    }
   ],
   "source": [
    "#Import necessary libraries\n",
    "import json # for loading JSON data\n",
    "import minsearch # for custom search engine\n",
    "from openai import OpenAI # for LLM\n",
    "from elasticsearch import Elasticsearch # for vector search\n",
    "from tqdm.auto import tqdm # progress bar for loops"
   ]
  },
  {
   "cell_type": "code",
   "execution_count": 3,
   "id": "b36145d4",
   "metadata": {},
   "outputs": [],
   "source": [
    "# Load the documents from the JSON file\n",
    "with open('documents.json', 'r') as f:\n",
    "    docs_raw = json.load(f)"
   ]
  },
  {
   "cell_type": "code",
   "execution_count": 4,
   "id": "7f7944b8",
   "metadata": {},
   "outputs": [],
   "source": [
    "documents = []\n",
    "\n",
    "for course_dict in docs_raw:\n",
    "    for doc in course_dict['documents']:\n",
    "        doc['course'] = course_dict['course']\n",
    "        documents.append(doc)"
   ]
  },
  {
   "cell_type": "code",
   "execution_count": 5,
   "id": "88709793",
   "metadata": {},
   "outputs": [],
   "source": [
    "# Create the search index\n",
    "index = minsearch.Index(\n",
    "    text_fields=[\"question\", \"text\", \"section\"],\n",
    "    keyword_fields=[\"course\"]\n",
    ")"
   ]
  },
  {
   "cell_type": "code",
   "execution_count": 6,
   "id": "1723068c",
   "metadata": {},
   "outputs": [
    {
     "data": {
      "text/plain": [
       "<minsearch.Index at 0x104418ac0>"
      ]
     },
     "execution_count": 6,
     "metadata": {},
     "output_type": "execute_result"
    }
   ],
   "source": [
    "# Fit the index with the documents\n",
    "index.fit(documents)"
   ]
  },
  {
   "cell_type": "code",
   "execution_count": 7,
   "id": "6a4ff3e8",
   "metadata": {},
   "outputs": [],
   "source": [
    "# Search the index for relevant documents based on the query.\n",
    "def search(query):\n",
    "    # Set boost values to give more importance to certain fields during search\n",
    "    boost = { \"question\": 3, \"section\": 0.5}\n",
    "    # Search the index with the query, filtering by course and applying boost\n",
    "    results = index.search(\n",
    "        query=query,\n",
    "        num_results=5,\n",
    "        filter_dict={\"course\": \"data-engineering-zoomcamp\"},\n",
    "        boost_dict=boost\n",
    "    )\n",
    "    return results\n",
    "    "
   ]
  },
  {
   "cell_type": "code",
   "execution_count": 8,
   "id": "ab51b4df",
   "metadata": {},
   "outputs": [],
   "source": [
    "# Build a prompt for the LLM using the query and search results.\n",
    "def prompt_builder(query, search_results):\n",
    "    # Create prompt template for the question and context\n",
    "    prompt_template = \"\"\"\n",
    "    You are a course assistant for the Data Engineering Zoomcamp. \n",
    "    You will be given a question. Your task is to answer the question based on the CONTEXT from the FAQ Documents. Use only facts from the CONTEXT to answer the question. If you don't know the answer, say \"I don't know\".\n",
    "    Question: {question}\n",
    "    Context: {context}\n",
    "    Answer: \n",
    "    \"\"\".strip()\n",
    "\n",
    "    # Create context of documents from our search results\n",
    "    context = \"\"\n",
    "\n",
    "    for doc in search_results: \n",
    "        context += f\"Question: {doc['question']}\\n\"\n",
    "        context += f\"Answer: {doc['text']}\\n\"\n",
    "        context += f\"Section: {doc['section']}\\n\\n\"\n",
    "\n",
    "        # Create the prompt\n",
    "        prompt = prompt_template.format(\n",
    "            question=query,\n",
    "            context=context\n",
    "        ).strip()\n",
    "    return prompt\n",
    "    "
   ]
  },
  {
   "cell_type": "code",
   "execution_count": 9,
   "id": "050318e0",
   "metadata": {},
   "outputs": [],
   "source": [
    "# Send the prompt to the OpenAI LLM and returns the response.\n",
    "def llm(prompt):\n",
    "    # Create an OpenAI client instance\n",
    "    client = OpenAI()\n",
    "    # Send the prompt with context  to the OpenAI model and get the response\n",
    "    response = client.chat.completions.create(\n",
    "    model=\"gpt-4o\",\n",
    "    messages=[\n",
    "        {\"role\": \"user\", \"content\": prompt},\n",
    "    ])\n",
    "    return response.choices[0].message.content"
   ]
  },
  {
   "cell_type": "code",
   "execution_count": 10,
   "id": "23078a2b",
   "metadata": {},
   "outputs": [],
   "source": [
    "# Implement the full RAG pipeline: search, prompt building, and LLM call.\n",
    "def rag(query): \n",
    "    # Get search results for the query\n",
    "    search_results = search(query)\n",
    "    # Build the prompt with the query and search results\n",
    "    prompt = prompt_builder(query, search_results)\n",
    "    # Get the answer from the LLM\n",
    "    answer = llm(prompt)\n",
    "    return answer"
   ]
  },
  {
   "cell_type": "code",
   "execution_count": 11,
   "id": "d3b384b1",
   "metadata": {},
   "outputs": [],
   "source": [
    "# Set the query \n",
    "query = 'the course has already started, can I still enroll?'\n"
   ]
  },
  {
   "cell_type": "code",
   "execution_count": 12,
   "id": "0229f1f7",
   "metadata": {},
   "outputs": [
    {
     "name": "stdout",
     "output_type": "stream",
     "text": [
      "Yes, even if you don't register, you're still eligible to submit the homeworks. Be aware, however, that there will be deadlines for turning in the final projects. So don't leave everything for the last minute.\n"
     ]
    }
   ],
   "source": [
    "# Example usage\n",
    "answer = rag(query)\n",
    "# Print the answer\n",
    "print(rag(query))"
   ]
  },
  {
   "cell_type": "code",
   "execution_count": 13,
   "id": "afeae25f",
   "metadata": {},
   "outputs": [],
   "source": [
    "# Initialize the Elasticsearch client\n",
    "es_client = Elasticsearch('http://localhost:9200')"
   ]
  },
  {
   "cell_type": "code",
   "execution_count": 14,
   "id": "9164e736",
   "metadata": {},
   "outputs": [
    {
     "name": "stderr",
     "output_type": "stream",
     "text": [
      "/var/folders/_9/rjnbrnf56dld9s5r75l__p6r0000gn/T/ipykernel_26888/510450307.py:20: DeprecationWarning: The 'body' parameter is deprecated for the 'create' API and will be removed in a future version. Instead use API parameters directly. See https://github.com/elastic/elasticsearch-py/issues/1698 for more information\n",
      "  es_client.indices.create(index=index_name, body=index_settings)\n"
     ]
    }
   ],
   "source": [
    "# Define the index settings and mappings for Elasticsearch\n",
    "index_settings = {\n",
    "    \"settings\": {\n",
    "        \"number_of_shards\": 1,\n",
    "        \n",
    "        \"number_of_replicas\": 0\n",
    "    },\n",
    "    \"mappings\": {\n",
    "        \"properties\": {\n",
    "            \"question\": {\"type\": \"text\"},\n",
    "            \"text\": {\"type\": \"text\"},\n",
    "            \"section\": {\"type\": \"text\"},\n",
    "            \"course\": {\"type\": \"keyword\"}\n",
    "        }\n",
    "    }\n",
    "}\n",
    "# Create the Elasticsearch index with the specified settings and mappings (ignore if already exists)\n",
    "index_name = 'course_questions'\n",
    "if not es_client.indices.exists(index=index_name):\n",
    "    es_client.indices.create(index=index_name, body=index_settings)"
   ]
  },
  {
   "cell_type": "code",
   "execution_count": 14,
   "id": "9fb9b18f",
   "metadata": {},
   "outputs": [
    {
     "name": "stderr",
     "output_type": "stream",
     "text": [
      "100%|██████████| 948/948 [00:01<00:00, 577.08it/s]\n"
     ]
    }
   ],
   "source": [
    "# Index the documents into Elasticsearch with a progress bar (tqdm)\n",
    "for doc in tqdm(documents):\n",
    "    es_client.index(index=index_name, document=doc)"
   ]
  },
  {
   "cell_type": "code",
   "execution_count": 15,
   "id": "f4a32ec5",
   "metadata": {},
   "outputs": [],
   "source": [
    "def elastic_search(query):\n",
    "\n",
    "    # Define the search query for Elasticsearch\n",
    "    search_query = {\n",
    "        \"query\": {\n",
    "            \"bool\": {\n",
    "                \"must\": [\n",
    "                    {\"multi_match\": {\n",
    "                        \"query\": query,\n",
    "                        \"fields\": [\"question^3\", \"text\", \"section\"],\n",
    "                        \"type\": \"best_fields\"\n",
    "                        }\n",
    "                        }\n",
    "                ],\n",
    "                \"filter\": [\n",
    "                    {\"term\": {\"course\": \"data-engineering-zoomcamp\"}}\n",
    "                ]\n",
    "            }\n",
    "        },\n",
    "        \"size\": 5\n",
    "    }\n",
    "    # Perform the search in Elasticsearch using the defined query\n",
    "    response = es_client.search(index=index_name, body=search_query)\n",
    "    # Extract the relevant documents from the search response\n",
    "    result_docs = []\n",
    "\n",
    "    for hit in response['hits']['hits']:\n",
    "        result_docs.append(hit['_source'])\n",
    "    return result_docs"
   ]
  },
  {
   "cell_type": "code",
   "execution_count": 16,
   "id": "10359487",
   "metadata": {},
   "outputs": [
    {
     "name": "stderr",
     "output_type": "stream",
     "text": [
      "/var/folders/_9/rjnbrnf56dld9s5r75l__p6r0000gn/T/ipykernel_89231/3639513398.py:23: DeprecationWarning: The 'body' parameter is deprecated for the 'search' API and will be removed in a future version. Instead use API parameters directly. See https://github.com/elastic/elasticsearch-py/issues/1698 for more information\n",
      "  response = es_client.search(index=index_name, body=search_query)\n"
     ]
    }
   ],
   "source": [
    "result_docs = elastic_search(query)"
   ]
  },
  {
   "cell_type": "code",
   "execution_count": 17,
   "id": "34777c29",
   "metadata": {},
   "outputs": [],
   "source": [
    "# Implement the full RAG pipeline: search, prompt building, and LLM call. This time with Elasticsearch.\n",
    "def rag(query): \n",
    "    # Get search results for the query\n",
    "    search_results = elastic_search(query)\n",
    "    # Build the prompt with the query and search results\n",
    "    prompt = prompt_builder(query, search_results)\n",
    "    # Get the answer from the LLM\n",
    "    answer = llm(prompt)\n",
    "    return answer"
   ]
  },
  {
   "cell_type": "code",
   "execution_count": 18,
   "id": "aa264168",
   "metadata": {},
   "outputs": [
    {
     "name": "stderr",
     "output_type": "stream",
     "text": [
      "/var/folders/_9/rjnbrnf56dld9s5r75l__p6r0000gn/T/ipykernel_89231/3639513398.py:23: DeprecationWarning: The 'body' parameter is deprecated for the 'search' API and will be removed in a future version. Instead use API parameters directly. See https://github.com/elastic/elasticsearch-py/issues/1698 for more information\n",
      "  response = es_client.search(index=index_name, body=search_query)\n"
     ]
    },
    {
     "name": "stdout",
     "output_type": "stream",
     "text": [
      "Yes, even if the course has already started, you can still join. You are eligible to submit the homeworks without registering. However, be aware that there will be deadlines for turning in the final projects, so don't leave everything for the last minute.\n"
     ]
    }
   ],
   "source": [
    "# Example usage\n",
    "answer = rag(query)\n",
    "# Print the answer\n",
    "print(rag(query))"
   ]
  }
 ],
 "metadata": {
  "kernelspec": {
   "display_name": "venv",
   "language": "python",
   "name": "python3"
  },
  "language_info": {
   "codemirror_mode": {
    "name": "ipython",
    "version": 3
   },
   "file_extension": ".py",
   "mimetype": "text/x-python",
   "name": "python",
   "nbconvert_exporter": "python",
   "pygments_lexer": "ipython3",
   "version": "3.9.6"
  }
 },
 "nbformat": 4,
 "nbformat_minor": 5
}
